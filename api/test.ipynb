{
 "cells": [
  {
   "cell_type": "code",
   "execution_count": 5,
   "metadata": {},
   "outputs": [],
   "source": [
    "from zingapi import ZingMp3Async,ZingMp3"
   ]
  },
  {
   "cell_type": "code",
   "execution_count": 9,
   "metadata": {},
   "outputs": [
    {
     "name": "stdout",
     "output_type": "stream",
     "text": [
      "<requests.sessions.Session object at 0x000002C8EAAAF710>\n",
      "sfwe https://zingmp3.vn/api/v2/song/get/streaming\n"
     ]
    },
    {
     "data": {
      "text/plain": [
       "'https://a128-zmp3.zmdcdn.me/9db007158cad58e469c32e22095795d3?authen=exp=1700422495~acl=/9db007158cad58e469c32e22095795d3/*~hmac=9f47751e8a452197bc13bd294ef18793'"
      ]
     },
     "execution_count": 9,
     "metadata": {},
     "output_type": "execute_result"
    }
   ],
   "source": [
    "zi = ZingMp3()\n",
    "zi.getAudio('ZZ90AZ7W')"
   ]
  }
 ],
 "metadata": {
  "kernelspec": {
   "display_name": "venv",
   "language": "python",
   "name": "python3"
  },
  "language_info": {
   "codemirror_mode": {
    "name": "ipython",
    "version": 3
   },
   "file_extension": ".py",
   "mimetype": "text/x-python",
   "name": "python",
   "nbconvert_exporter": "python",
   "pygments_lexer": "ipython3",
   "version": "3.11.5"
  }
 },
 "nbformat": 4,
 "nbformat_minor": 2
}
